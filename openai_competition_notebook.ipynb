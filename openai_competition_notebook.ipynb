{
 "cells": [
  {
   "cell_type": "markdown",
   "metadata": {},
   "source": [
    "# OpenAI GPT-OSS-20B Competition Runner for Google Colab\n",
    "\n",
    "This notebook runs the complete competition pipeline with proper model loading."
   ]
  },
  {
   "cell_type": "markdown",
   "metadata": {},
   "source": [
    "## Step 1: Clone Repository"
   ]
  },
  {
   "cell_type": "code",
   "execution_count": null,
   "metadata": {},
   "outputs": [],
   "source": [
    "# Clone the repository\n",
    "!cd /content && rm -rf openai-\n",
    "!cd /content && git clone https://github.com/Unknown1502/openai-.git openai-\n",
    "%cd /content/openai-"
   ]
  },
  {
   "cell_type": "markdown",
   "metadata": {},
   "source": [
    "## Step 2: Run Setup Script"
   ]
  },
  {
   "cell_type": "code",
   "execution_count": null,
   "metadata": {},
   "outputs": [],
   "source": [
    "# Run the setup script\n",
    "!python colab_competition_setup.py"
   ]
  },
  {
   "cell_type": "markdown",
   "metadata": {},
   "source": [
    "## Step 3: Load the Model"
   ]
  },
  {
   "cell_type": "code",
   "execution_count": null,
   "metadata": {},
   "outputs": [],
   "source": [
    "# Load the model using the loader script\n",
    "!python openai_gpt_model_loader.py"
   ]
  },
  {
   "cell_type": "markdown",
   "metadata": {},
   "source": [
    "## Step 4: Run Competition"
   ]
  },
  {
   "cell_type": "code",
   "execution_count": null,
   "metadata": {},
   "outputs": [],
   "source": [
    "# Run the standard competition\n",
    "!python run_competition.py"
   ]
  },
  {
   "cell_type": "markdown",
   "metadata": {},
   "source": [
    "## Step 5: Run Enhanced Competition"
   ]
  },
  {
   "cell_type": "code",
   "execution_count": null,
   "metadata": {},
   "outputs": [],
   "source": [
    "# Run enhanced competition with different modes\n",
    "!python run_enhanced_competition.py --mode quick --strategy standard"
   ]
  },
  {
   "cell_type": "markdown",
   "metadata": {},
   "source": [
    "## Step 6: View Results"
   ]
  },
  {
   "cell_type": "code",
   "execution_count": null,
   "metadata": {},
   "outputs": [],
   "source": [
    "# Display competition results\n",
    "import json\n",
    "import os\n",
    "\n",
    "if os.path.exists('competition_summary.json'):\n",
    "    with open('competition_summary.json', 'r') as f:\n",
    "        summary = json.load(f)\n",
    "    print(\"Competition Summary:\")\n",
    "    print(json.dumps(summary, indent=2))\n",
    "else:\n",
    "    print(\"No results found yet. Run the competition first.\")\n",
    "\n",
    "# List all findings files\n",
    "findings_files = [f for f in os.listdir('.') if f.startswith('findings_') and f.endswith('.json')]\n",
    "print(f\"\\nFound {len(findings_files)} findings files:\")\n",
    "for f in findings_files:\n",
    "    print(f\"  - {f}\")"
   ]
  }
 ],
 "metadata": {
  "kernelspec": {
   "display_name": "Python 3",
   "language": "python",
   "name": "python3"
  },
  "language_info": {
   "codemirror_mode": {
    "name": "ipython",
    "version": 3
   },
   "file_extension": ".py",
   "mimetype": "text/x-python",
   "name": "python",
   "nbconvert_exporter": "python",
   "pygments_lexer": "ipython3",
   "version": "3.10.0"
  }
 },
 "nbformat": 4,
 "nbformat_minor": 4
}
