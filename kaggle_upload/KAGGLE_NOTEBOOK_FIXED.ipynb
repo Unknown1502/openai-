{
 "cells": [
  {
   "cell_type": "markdown",
   "metadata": {},
   "source": [
    "# AI Vulnerability Discovery Tool - Kaggle Setup\n",
    "\n",
    "This notebook runs the gpt-oss-20B model locally on Kaggle without API keys."
   ]
  },
  {
   "cell_type": "markdown",
   "metadata": {},
   "source": [
    "## Install dependencies"
   ]
  },
  {
   "cell_type": "code",
   "execution_count": null,
   "metadata": {},
   "outputs": [],
   "source": [
    "!pip install -q --upgrade torch\n",
    "!pip install -q transformers triton==3.4 kernels\n",
    "!pip install -q -r requirements_competition.txt"
   ]
  },
  {
   "cell_type": "markdown",
   "metadata": {},
   "source": [
    "## Restart runtime after installations"
   ]
  },
  {
   "cell_type": "code",
   "execution_count": null,
   "metadata": {},
   "outputs": [],
   "source": [
    "import IPython\n",
    "IPython.Application.instance().kernel.do_shutdown(True)"
   ]
  },
  {
   "cell_type": "markdown",
   "metadata": {},
   "source": [
    "## Fix Vendor Directory Issues\n",
    "\n",
    "This step fixes the corrupted torch signal module that interferes with Python's standard library imports."
   ]
  },
  {
   "cell_type": "code",
   "execution_count": null,
   "metadata": {},
   "outputs": [],
   "source": [
    "# Fix corrupted torch signal module\n",
    "!python KAGGLE_FIX_VENDOR.py"
   ]
  },
  {
   "cell_type": "markdown",
   "metadata": {},
   "source": [
    "## Prevent Kaggle Disconnection"
   ]
  },
  {
   "cell_type": "code",
   "execution_count": null,
   "metadata": {},
   "outputs": [],
   "source": [
    "import threading\n",
    "import time\n",
    "from IPython.display import clear_output\n",
    "\n",
    "def keep_alive():\n",
    "    \"\"\"Keep notebook alive during long runs\"\"\"\n",
    "    while True:\n",
    "        time.sleep(300)  # 5 minutes\n",
    "        clear_output(wait=True)\n",
    "        print(f\"Keep alive: {time.strftime('%Y-%m-%d %H:%M:%S')}\")\n",
    "\n",
    "# Start keep-alive thread\n",
    "keep_alive_thread = threading.Thread(target=keep_alive, daemon=True)\n",
    "keep_alive_thread.start()"
   ]
  },
  {
   "cell_type": "markdown",
   "metadata": {},
   "source": [
    "## Run Project"
   ]
  },
  {
   "cell_type": "code",
   "execution_count": null,
   "metadata": {},
   "outputs": [],
   "source": [
    "# Set up project\n",
    "import os\n",
    "os.makedirs('outputs', exist_ok=True)\n",
    "os.makedirs('data/prompts', exist_ok=True)\n",
    "os.makedirs('data/reference', exist_ok=True)"
   ]
  },
  {
   "cell_type": "code",
   "execution_count": null,
   "metadata": {},
   "outputs": [],
   "source": [
    "# Run the main script\n",
    "!python run_competition.py"
   ]
  }
 ],
 "metadata": {
  "kernelspec": {
   "display_name": "Python 3",
   "language": "python",
   "name": "python3"
  },
  "language_info": {
   "codemirror_mode": {
    "name": "ipython",
    "version": 3
   },
   "file_extension": ".py",
   "mimetype": "text/x-python",
   "name": "python",
   "nbconvert_exporter": "python",
   "pygments_lexer": "ipython3",
   "version": "3.8.0"
  }
 },
 "nbformat": 4,
 "nbformat_minor": 4
}
